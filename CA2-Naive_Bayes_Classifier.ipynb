{
 "cells": [
  {
   "cell_type": "markdown",
   "metadata": {},
   "source": [
    "# Artificial Intelligence Course, Dr.Fadaei"
   ]
  },
  {
   "attachments": {
    "image.png": {
     "image/png": "[encoded data removed]"
    }
   },
   "cell_type": "markdown",
   "metadata": {},
   "source": [
    "# CA3 ![image.png](attachment:image.png)"
   ]
  },
  {
   "cell_type": "markdown",
   "metadata": {},
   "source": [
    "## Parnian Fazel - 810198516"
   ]
  },
  {
   "cell_type": "markdown",
   "metadata": {},
   "source": [
    "### Goal"
   ]
  },
  {
   "cell_type": "markdown",
   "metadata": {},
   "source": [
    "In this assignment we are to use **naive bayes** as classifier. Naive bayes is a classification technique based on `Bayes’ Theorem` with an assumption of **independence** among predictors. `Naive Bayes classifier` assumes that the presence of a particular feature in a class is unrelated to the presence of any other feature. Also we get familiar with the **bag of words** method, new libraries like `hazm`, new methods to **normalize** text, how to modify our model in order to get better results and how to **evaluate** our model."
   ]
  },
  {
   "cell_type": "markdown",
   "metadata": {},
   "source": [
    "### Brief Description"
   ]
  },
  {
   "cell_type": "markdown",
   "metadata": {},
   "source": [
    "In this assignment we are given two set of data: 1-train data 2-test data. These datas are extracted from `Divar` website and we should classify the test data which consist of the title and the description of an advertisement into 6 classes: 1-vehicles 2-personal 3-businesses 4-for-the-home 5-leisure-hobbies 6-electronic-devices. First we should go through preprocessing the data and then create our model based on the train data. In the end there is an evaluation part where we can access how efficient the created model is!"
   ]
  },
  {
   "cell_type": "markdown",
   "metadata": {},
   "source": [
    "I employed the `hazm` library which I used to preprocess the data. This library is for datas in Persian.\n",
    "\n",
    "This is how it is installed:"
   ]
  },
  {
   "cell_type": "markdown",
   "metadata": {},
   "source": [
    "import sys\n",
    "\n",
    "!{sys.executable} -m pip install hazm"
   ]
  },
  {
   "cell_type": "markdown",
   "metadata": {},
   "source": [
    "#### Imported Libraries"
   ]
  },
  {
   "cell_type": "code",
   "execution_count": 706,
   "metadata": {},
   "outputs": [],
   "source": [
    "from __future__ import unicode_literals\n",
    "from hazm import * \n",
    "import pandas as pd\n",
    "import numpy as np\n",
    "import math\n",
    "%matplotlib inline\n",
    "import matplotlib.pyplot as plt\n",
    "import collections\n",
    "from collections import Counter"
   ]
  },
  {
   "cell_type": "markdown",
   "metadata": {},
   "source": [
    "**Loading Data**\n",
    "\n",
    "*divar_train.csv* is given as the **train** data and *divar_test.csv* as **test** data."
   ]
  },
  {
   "cell_type": "code",
   "execution_count": 707,
   "metadata": {},
   "outputs": [],
   "source": [
    "train_df = pd.read_csv(r\"Data/divar_train.csv\")\n",
    "test_df = pd.read_csv(r\"Data/divar_test.csv\")"
   ]
  },
  {
   "cell_type": "code",
   "execution_count": 708,
   "metadata": {},
   "outputs": [
    {
     "data": {
      "text/html": [
       "<div>\n",
       "<style scoped>\n",
       "    .dataframe tbody tr th:only-of-type {\n",
       "        vertical-align: middle;\n",
       "    }\n",
       "\n",
       "    .dataframe tbody tr th {\n",
       "        vertical-align: top;\n",
       "    }\n",
       "\n",
       "    .dataframe thead th {\n",
       "        text-align: right;\n",
       "    }\n",
       "</style>\n",
       "<table border=\"1\" class=\"dataframe\">\n",
       "  <thead>\n",
       "    <tr style=\"text-align: right;\">\n",
       "      <th></th>\n",
       "      <th>title</th>\n",
       "      <th>description</th>\n",
       "      <th>categories</th>\n",
       "    </tr>\n",
       "  </thead>\n",
       "  <tbody>\n",
       "    <tr>\n",
       "      <th>0</th>\n",
       "      <td>بلبل خرمایی</td>\n",
       "      <td>سه عدد بلبل خرمایی سه ماهه.از وقتی جوجه بودن خودم بزرگشون کردم اما دستی نیستن واسه همین قیمت پایین دادم.هر سه با هم 100تومان مقطوع مقطوع</td>\n",
       "      <td>leisure-hobbies</td>\n",
       "    </tr>\n",
       "    <tr>\n",
       "      <th>1</th>\n",
       "      <td>عینک اسکی در حد</td>\n",
       "      <td>عینک اسکی دبل لنز مارک يو وكس  در حد نو اصلی میباشد فقط ٤بار استفاده شده بدون خط و خش</td>\n",
       "      <td>leisure-hobbies</td>\n",
       "    </tr>\n",
       "    <tr>\n",
       "      <th>2</th>\n",
       "      <td>تکیه سر تویوتا پرادو</td>\n",
       "      <td>پارچه ای سالم و تمیز.</td>\n",
       "      <td>vehicles</td>\n",
       "    </tr>\n",
       "    <tr>\n",
       "      <th>3</th>\n",
       "      <td>مجسمه کریستال24%</td>\n",
       "      <td>مجسمه دکوری کریستال بالرین Rcr24%</td>\n",
       "      <td>for-the-home</td>\n",
       "    </tr>\n",
       "    <tr>\n",
       "      <th>4</th>\n",
       "      <td>کیف و ساک</td>\n",
       "      <td>هر 2 کاملا تمیز هستند</td>\n",
       "      <td>personal</td>\n",
       "    </tr>\n",
       "  </tbody>\n",
       "</table>\n",
       "</div>"
      ],
      "text/plain": [
       "                  title  \\\n",
       "0  بلبل خرمایی            \n",
       "1  عینک اسکی در حد        \n",
       "2  تکیه سر تویوتا پرادو   \n",
       "3  مجسمه کریستال24%       \n",
       "4  کیف و ساک              \n",
       "\n",
       "                                                                                                                                description  \\\n",
       "0  سه عدد بلبل خرمایی سه ماهه.از وقتی جوجه بودن خودم بزرگشون کردم اما دستی نیستن واسه همین قیمت پایین دادم.هر سه با هم 100تومان مقطوع مقطوع   \n",
       "1  عینک اسکی دبل لنز مارک يو وكس  در حد نو اصلی میباشد فقط ٤بار استفاده شده بدون خط و خش                                                      \n",
       "2  پارچه ای سالم و تمیز.                                                                                                                      \n",
       "3  مجسمه دکوری کریستال بالرین Rcr24%                                                                                                          \n",
       "4  هر 2 کاملا تمیز هستند                                                                                                                      \n",
       "\n",
       "        categories  \n",
       "0  leisure-hobbies  \n",
       "1  leisure-hobbies  \n",
       "2  vehicles         \n",
       "3  for-the-home     \n",
       "4  personal         "
      ]
     },
     "execution_count": 708,
     "metadata": {},
     "output_type": "execute_result"
    }
   ],
   "source": [
    "train_df.head()"
   ]
  },
  {
   "cell_type": "code",
   "execution_count": 709,
   "metadata": {},
   "outputs": [
    {
     "data": {
      "text/html": [
       "<div>\n",
       "<style scoped>\n",
       "    .dataframe tbody tr th:only-of-type {\n",
       "        vertical-align: middle;\n",
       "    }\n",
       "\n",
       "    .dataframe tbody tr th {\n",
       "        vertical-align: top;\n",
       "    }\n",
       "\n",
       "    .dataframe thead th {\n",
       "        text-align: right;\n",
       "    }\n",
       "</style>\n",
       "<table border=\"1\" class=\"dataframe\">\n",
       "  <thead>\n",
       "    <tr style=\"text-align: right;\">\n",
       "      <th></th>\n",
       "      <th>title</th>\n",
       "      <th>description</th>\n",
       "      <th>categories</th>\n",
       "    </tr>\n",
       "  </thead>\n",
       "  <tbody>\n",
       "    <tr>\n",
       "      <th>0</th>\n",
       "      <td>کیف مجلسی نو</td>\n",
       "      <td>کیف مجلسی نوی نو</td>\n",
       "      <td>personal</td>\n",
       "    </tr>\n",
       "    <tr>\n",
       "      <th>1</th>\n",
       "      <td>دیوار کوب نمدی تزیینی</td>\n",
       "      <td>مناسب برای جهاز عروس</td>\n",
       "      <td>for-the-home</td>\n",
       "    </tr>\n",
       "    <tr>\n",
       "      <th>2</th>\n",
       "      <td>دو تیکه بسیار بسیار تمیز و سالم</td>\n",
       "      <td>با کشوی مخفی و شیک</td>\n",
       "      <td>for-the-home</td>\n",
       "    </tr>\n",
       "    <tr>\n",
       "      <th>3</th>\n",
       "      <td>مودم</td>\n",
       "      <td>سلام مودم سالم با وسایلش،دیگه ب کارم نمیاد \\nمارکzyxel\\nبرای خرید فقط با شماره ی زیر تماس بگیرید\\n$NUM</td>\n",
       "      <td>electronic-devices</td>\n",
       "    </tr>\n",
       "    <tr>\n",
       "      <th>4</th>\n",
       "      <td>تعداد18عددبوقلمون به قیمت عمده</td>\n",
       "      <td>سلام تعدای بوقلمون دارم به علت جابه جایی به فروش می رسد جفتی120000تومان به مشتری واقعی تخفیف جزئ میدم</td>\n",
       "      <td>leisure-hobbies</td>\n",
       "    </tr>\n",
       "  </tbody>\n",
       "</table>\n",
       "</div>"
      ],
      "text/plain": [
       "                             title  \\\n",
       "0  کیف مجلسی نو                      \n",
       "1  دیوار کوب نمدی تزیینی             \n",
       "2  دو تیکه بسیار بسیار تمیز و سالم   \n",
       "3  مودم                              \n",
       "4  تعداد18عددبوقلمون به قیمت عمده    \n",
       "\n",
       "                                                                                              description  \\\n",
       "0  کیف مجلسی نوی نو                                                                                         \n",
       "1  مناسب برای جهاز عروس                                                                                     \n",
       "2  با کشوی مخفی و شیک                                                                                       \n",
       "3  سلام مودم سالم با وسایلش،دیگه ب کارم نمیاد \\nمارکzyxel\\nبرای خرید فقط با شماره ی زیر تماس بگیرید\\n$NUM   \n",
       "4  سلام تعدای بوقلمون دارم به علت جابه جایی به فروش می رسد جفتی120000تومان به مشتری واقعی تخفیف جزئ میدم    \n",
       "\n",
       "           categories  \n",
       "0  personal            \n",
       "1  for-the-home        \n",
       "2  for-the-home        \n",
       "3  electronic-devices  \n",
       "4  leisure-hobbies     "
      ]
     },
     "execution_count": 709,
     "metadata": {},
     "output_type": "execute_result"
    }
   ],
   "source": [
    "test_df.head()"
   ]
  },
  {
   "cell_type": "markdown",
   "metadata": {},
   "source": [
    "## Pre-Process"
   ]
  },
  {
   "cell_type": "markdown",
   "metadata": {},
   "source": [
    "Feature engineering is one of the most important steps in machine learning. It is the process of using domain knowledge of the data to create features that make machine learning algorithms work. If we can use suitable features and feed them to our model then the model will be able to understand the sentence better. Here I merged the \"title\" column and the \"description\" column in a way that for each row of the train dataset the title is added 4 times to the merged column named \"data\". Note that by increasing this value the results does not necessarily get better for instance when I added the title 5 times, the results got worse."
   ]
  },
  {
   "cell_type": "code",
   "execution_count": 710,
   "metadata": {},
   "outputs": [
    {
     "data": {
      "text/html": [
       "<div>\n",
       "<style scoped>\n",
       "    .dataframe tbody tr th:only-of-type {\n",
       "        vertical-align: middle;\n",
       "    }\n",
       "\n",
       "    .dataframe tbody tr th {\n",
       "        vertical-align: top;\n",
       "    }\n",
       "\n",
       "    .dataframe thead th {\n",
       "        text-align: right;\n",
       "    }\n",
       "</style>\n",
       "<table border=\"1\" class=\"dataframe\">\n",
       "  <thead>\n",
       "    <tr style=\"text-align: right;\">\n",
       "      <th></th>\n",
       "      <th>data</th>\n",
       "      <th>categories</th>\n",
       "    </tr>\n",
       "  </thead>\n",
       "  <tbody>\n",
       "    <tr>\n",
       "      <th>0</th>\n",
       "      <td>سه عدد بلبل خرمایی سه ماهه.از وقتی جوجه بودن خودم بزرگشون کردم اما دستی نیستن واسه همین قیمت پایین دادم.هر سه با هم 100تومان مقطوع مقطوع بلبل خرمایی بلبل خرمایی بلبل خرمایی بلبل خرمایی</td>\n",
       "      <td>leisure-hobbies</td>\n",
       "    </tr>\n",
       "    <tr>\n",
       "      <th>1</th>\n",
       "      <td>عینک اسکی دبل لنز مارک يو وكس  در حد نو اصلی میباشد فقط ٤بار استفاده شده بدون خط و خش عینک اسکی در حد عینک اسکی در حد عینک اسکی در حد عینک اسکی در حد</td>\n",
       "      <td>leisure-hobbies</td>\n",
       "    </tr>\n",
       "    <tr>\n",
       "      <th>2</th>\n",
       "      <td>پارچه ای سالم و تمیز. تکیه سر تویوتا پرادو تکیه سر تویوتا پرادو تکیه سر تویوتا پرادو تکیه سر تویوتا پرادو</td>\n",
       "      <td>vehicles</td>\n",
       "    </tr>\n",
       "    <tr>\n",
       "      <th>3</th>\n",
       "      <td>مجسمه دکوری کریستال بالرین Rcr24% مجسمه کریستال24% مجسمه کریستال24% مجسمه کریستال24% مجسمه کریستال24%</td>\n",
       "      <td>for-the-home</td>\n",
       "    </tr>\n",
       "    <tr>\n",
       "      <th>4</th>\n",
       "      <td>هر 2 کاملا تمیز هستند کیف و ساک کیف و ساک کیف و ساک کیف و ساک</td>\n",
       "      <td>personal</td>\n",
       "    </tr>\n",
       "  </tbody>\n",
       "</table>\n",
       "</div>"
      ],
      "text/plain": [
       "                                                                                                                                                                                        data  \\\n",
       "0  سه عدد بلبل خرمایی سه ماهه.از وقتی جوجه بودن خودم بزرگشون کردم اما دستی نیستن واسه همین قیمت پایین دادم.هر سه با هم 100تومان مقطوع مقطوع بلبل خرمایی بلبل خرمایی بلبل خرمایی بلبل خرمایی    \n",
       "1  عینک اسکی دبل لنز مارک يو وكس  در حد نو اصلی میباشد فقط ٤بار استفاده شده بدون خط و خش عینک اسکی در حد عینک اسکی در حد عینک اسکی در حد عینک اسکی در حد                                       \n",
       "2  پارچه ای سالم و تمیز. تکیه سر تویوتا پرادو تکیه سر تویوتا پرادو تکیه سر تویوتا پرادو تکیه سر تویوتا پرادو                                                                                   \n",
       "3  مجسمه دکوری کریستال بالرین Rcr24% مجسمه کریستال24% مجسمه کریستال24% مجسمه کریستال24% مجسمه کریستال24%                                                                                       \n",
       "4  هر 2 کاملا تمیز هستند کیف و ساک کیف و ساک کیف و ساک کیف و ساک                                                                                                                               \n",
       "\n",
       "        categories  \n",
       "0  leisure-hobbies  \n",
       "1  leisure-hobbies  \n",
       "2  vehicles         \n",
       "3  for-the-home     \n",
       "4  personal         "
      ]
     },
     "execution_count": 710,
     "metadata": {},
     "output_type": "execute_result"
    }
   ],
   "source": [
    "train_df['title'] = train_df['description'] + ' ' + 4*(train_df['title']+ ' ')\n",
    "test_df['title'] = test_df['description'] + ' ' + 4*(test_df['title']+ ' ')\n",
    "train_df = train_df.rename(columns={'title': 'data'})\n",
    "test_df = test_df.rename(columns={'title': 'data'})\n",
    "train_df.drop(columns = train_df.columns[1], axis = 1, inplace = True)\n",
    "test_df.drop(columns = test_df.columns[1], axis = 1, inplace = True)\n",
    "train_df.head()"
   ]
  },
  {
   "cell_type": "code",
   "execution_count": 711,
   "metadata": {},
   "outputs": [
    {
     "data": {
      "text/html": [
       "<div>\n",
       "<style scoped>\n",
       "    .dataframe tbody tr th:only-of-type {\n",
       "        vertical-align: middle;\n",
       "    }\n",
       "\n",
       "    .dataframe tbody tr th {\n",
       "        vertical-align: top;\n",
       "    }\n",
       "\n",
       "    .dataframe thead th {\n",
       "        text-align: right;\n",
       "    }\n",
       "</style>\n",
       "<table border=\"1\" class=\"dataframe\">\n",
       "  <thead>\n",
       "    <tr style=\"text-align: right;\">\n",
       "      <th></th>\n",
       "      <th>data</th>\n",
       "      <th>categories</th>\n",
       "    </tr>\n",
       "  </thead>\n",
       "  <tbody>\n",
       "    <tr>\n",
       "      <th>0</th>\n",
       "      <td>کیف مجلسی نوی نو کیف مجلسی نو کیف مجلسی نو کیف مجلسی نو کیف مجلسی نو</td>\n",
       "      <td>personal</td>\n",
       "    </tr>\n",
       "    <tr>\n",
       "      <th>1</th>\n",
       "      <td>مناسب برای جهاز عروس دیوار کوب نمدی تزیینی دیوار کوب نمدی تزیینی دیوار کوب نمدی تزیینی دیوار کوب نمدی تزیینی</td>\n",
       "      <td>for-the-home</td>\n",
       "    </tr>\n",
       "    <tr>\n",
       "      <th>2</th>\n",
       "      <td>با کشوی مخفی و شیک دو تیکه بسیار بسیار تمیز و سالم دو تیکه بسیار بسیار تمیز و سالم دو تیکه بسیار بسیار تمیز و سالم دو تیکه بسیار بسیار تمیز و سالم</td>\n",
       "      <td>for-the-home</td>\n",
       "    </tr>\n",
       "    <tr>\n",
       "      <th>3</th>\n",
       "      <td>سلام مودم سالم با وسایلش،دیگه ب کارم نمیاد \\nمارکzyxel\\nبرای خرید فقط با شماره ی زیر تماس بگیرید\\n$NUM مودم مودم مودم مودم</td>\n",
       "      <td>electronic-devices</td>\n",
       "    </tr>\n",
       "    <tr>\n",
       "      <th>4</th>\n",
       "      <td>سلام تعدای بوقلمون دارم به علت جابه جایی به فروش می رسد جفتی120000تومان به مشتری واقعی تخفیف جزئ میدم تعداد18عددبوقلمون به قیمت عمده تعداد18عددبوقلمون به قیمت عمده تعداد18عددبوقلمون به قیمت عمده تعداد18عددبوقلمون به قیمت عمده</td>\n",
       "      <td>leisure-hobbies</td>\n",
       "    </tr>\n",
       "  </tbody>\n",
       "</table>\n",
       "</div>"
      ],
      "text/plain": [
       "                                                                                                                                                                                                                                 data  \\\n",
       "0  کیف مجلسی نوی نو کیف مجلسی نو کیف مجلسی نو کیف مجلسی نو کیف مجلسی نو                                                                                                                                                                 \n",
       "1  مناسب برای جهاز عروس دیوار کوب نمدی تزیینی دیوار کوب نمدی تزیینی دیوار کوب نمدی تزیینی دیوار کوب نمدی تزیینی                                                                                                                         \n",
       "2  با کشوی مخفی و شیک دو تیکه بسیار بسیار تمیز و سالم دو تیکه بسیار بسیار تمیز و سالم دو تیکه بسیار بسیار تمیز و سالم دو تیکه بسیار بسیار تمیز و سالم                                                                                   \n",
       "3  سلام مودم سالم با وسایلش،دیگه ب کارم نمیاد \\nمارکzyxel\\nبرای خرید فقط با شماره ی زیر تماس بگیرید\\n$NUM مودم مودم مودم مودم                                                                                                           \n",
       "4  سلام تعدای بوقلمون دارم به علت جابه جایی به فروش می رسد جفتی120000تومان به مشتری واقعی تخفیف جزئ میدم تعداد18عددبوقلمون به قیمت عمده تعداد18عددبوقلمون به قیمت عمده تعداد18عددبوقلمون به قیمت عمده تعداد18عددبوقلمون به قیمت عمده    \n",
       "\n",
       "           categories  \n",
       "0  personal            \n",
       "1  for-the-home        \n",
       "2  for-the-home        \n",
       "3  electronic-devices  \n",
       "4  leisure-hobbies     "
      ]
     },
     "execution_count": 711,
     "metadata": {},
     "output_type": "execute_result"
    }
   ],
   "source": [
    "test_df.head()"
   ]
  },
  {
   "cell_type": "markdown",
   "metadata": {},
   "source": [
    "I used the prepared function in hazm library in order to preprocess the data. Both stemmer and lemmatizer can word preprocessing the data but I used the lemmatizer beacuse it was more appropriate for my model and I got better results. I used normalizer because if I did not the scores in evaluation part got a little lower."
   ]
  },
  {
   "cell_type": "markdown",
   "metadata": {},
   "source": [
    "#### **Question 1)**  stemming vs lemmatization :"
   ]
  },
  {
   "cell_type": "markdown",
   "metadata": {},
   "source": [
    "**Similarities:** Reducing the inflectional forms of each word into a **common base** or **root**.\n",
    "\n",
    "**Differences:** `Stemming` algorithms work by cutting off the end or the beginning of the word on the other hand, `Lemmatization` takes into consideration the morphological analysis of the words. Lemmatization is more **accurate** than stemming but **slower**. Stemming is preferred when the **meaning** of the word is not important for analysis but when the meaning should take into account, we should use lemmatization. Lemmatization is a method responsible for grouping different inflected forms of words into the root form, having the **same meaning** but by stem we may lose data beacuse it mainly chops off the last characters of the word in order to get the root. Generally, using lemmatization in datas like is more recommneded. \n",
    "\n",
    "Imagin the word \"studies\":\n",
    "\n",
    "by stemming: \"stud\"\n",
    "\n",
    "by lemmatization: \"sudy\""
   ]
  },
  {
   "cell_type": "code",
   "execution_count": 712,
   "metadata": {},
   "outputs": [],
   "source": [
    "normalizer = Normalizer()\n",
    "stemmer = Stemmer()\n",
    "lemmatizer = Lemmatizer()"
   ]
  },
  {
   "cell_type": "markdown",
   "metadata": {},
   "source": [
    "Example of finctioning stem and lemmatize:"
   ]
  },
  {
   "cell_type": "code",
   "execution_count": 713,
   "metadata": {},
   "outputs": [
    {
     "data": {
      "text/plain": [
       "'دید'"
      ]
     },
     "execution_count": 713,
     "metadata": {},
     "output_type": "execute_result"
    }
   ],
   "source": [
    "stemmer.stem('دیدم')"
   ]
  },
  {
   "cell_type": "code",
   "execution_count": 714,
   "metadata": {},
   "outputs": [
    {
     "name": "stdout",
     "output_type": "stream",
     "text": [
      "دید#بین\n"
     ]
    }
   ],
   "source": [
    "print(lemmatizer.lemmatize('دیدم'))"
   ]
  },
  {
   "cell_type": "markdown",
   "metadata": {},
   "source": [
    "Counting number of each class occured in train data:"
   ]
  },
  {
   "cell_type": "code",
   "execution_count": 715,
   "metadata": {},
   "outputs": [
    {
     "data": {
      "text/plain": [
       "for-the-home          1700\n",
       "vehicles              1700\n",
       "businesses            1700\n",
       "electronic-devices    1700\n",
       "leisure-hobbies       1700\n",
       "personal              1700\n",
       "Name: categories, dtype: int64"
      ]
     },
     "execution_count": 715,
     "metadata": {},
     "output_type": "execute_result"
    }
   ],
   "source": [
    "train_df['categories'].value_counts()"
   ]
  },
  {
   "cell_type": "markdown",
   "metadata": {},
   "source": [
    "Counting number of each class occured in test data:"
   ]
  },
  {
   "cell_type": "code",
   "execution_count": 716,
   "metadata": {},
   "outputs": [
    {
     "data": {
      "text/plain": [
       "for-the-home          300\n",
       "vehicles              300\n",
       "businesses            300\n",
       "electronic-devices    300\n",
       "leisure-hobbies       300\n",
       "personal              300\n",
       "Name: categories, dtype: int64"
      ]
     },
     "execution_count": 716,
     "metadata": {},
     "output_type": "execute_result"
    }
   ],
   "source": [
    "test_df['categories'].value_counts()"
   ]
  },
  {
   "cell_type": "markdown",
   "metadata": {},
   "source": [
    "Here I defined some parameters which I used in text normalizing:"
   ]
  },
  {
   "cell_type": "code",
   "execution_count": 717,
   "metadata": {},
   "outputs": [],
   "source": [
    "stop_list = stopwords_list()\n",
    "stop_list.extend([\"\\n\", \"\\t\", \"\\r\", \"\\'\"])\n",
    "num_and_letter ={\n",
    "    '۱','۲','۳','۴','۵','۶','۷','۸','۹','۰','1','2','3','4','5','6','7','8','9','0','A','B','C','D','E','F','G','H','I','J',\n",
    "    'K','L','M','N','O','P','Q','R','S','T','U','V','W','X','Y','Z'}\n",
    "puncs = {\n",
    "    '*', ')', '٪', '»', '«', '★', '✅', '♡', '🔴', '❌', '♤', '✔️', '@', '#', '$', '%', '^', '&', '☆',\n",
    "    '(', ']', '[', '-', '؛', '¿', '_', '/', '.', ':', ';', '?', '!', '`', '~', '،', ' '}"
   ]
  },
  {
   "cell_type": "code",
   "execution_count": 718,
   "metadata": {},
   "outputs": [],
   "source": [
    "def pre_process(data):\n",
    "    normalized_data = normalizer.normalize(data)\n",
    "    words = word_tokenize(normalized_data)\n",
    "    for i in range(len(words)):\n",
    "        lemmatized = lemmatizer.lemmatize(words[i])\n",
    "        words[i] = lemmatized.split('#')[0]\n",
    "    for word in words:\n",
    "        result = \"\"\n",
    "        for char in word:\n",
    "            if (char not in puncs) and (char not in num_and_letter):\n",
    "                result += char\n",
    "        word = result\n",
    "    pre_processed_words = list()\n",
    "    for word in words:\n",
    "        if word == \"\" or word == \".\" or word == '،' or word in stop_list:\n",
    "            continue\n",
    "        pre_processed_words.append(word)\n",
    "    return pre_processed_words"
   ]
  },
  {
   "cell_type": "markdown",
   "metadata": {},
   "source": [
    "### Extracting all words from the test data\n",
    "\n",
    "I used a dictionary in order to save all words in each category"
   ]
  },
  {
   "cell_type": "code",
   "execution_count": 719,
   "metadata": {},
   "outputs": [],
   "source": [
    "words_in_categories = dict()\n",
    "for i, row in train_df.iterrows():\n",
    "    if row['categories'] in words_in_categories:\n",
    "        words_in_categories[row['categories']].extend(pre_process(row['data']))\n",
    "    else:\n",
    "        words_in_categories[row['categories']] = []                                 "
   ]
  },
  {
   "cell_type": "markdown",
   "metadata": {},
   "source": [
    "### Count Frequencies\n",
    "\n",
    "Since in this assignment the probabilities can be yeilded by the appearance frequency of the word we need to count the frequencies. I save the frequencies of each word in all categories in a nested dictionary. Actually the main part of training the data in this project is finding the frequencies of each word in each class."
   ]
  },
  {
   "cell_type": "code",
   "execution_count": 720,
   "metadata": {},
   "outputs": [],
   "source": [
    "words_frequency_in_categories = dict(dict())\n",
    "for category in words_in_categories:\n",
    "    if category == \"vehicles\":\n",
    "        words_frequency_in_categories[\"vehicles\"] = Counter(words_in_categories[\"vehicles\"])\n",
    "    elif category == \"personal\":\n",
    "        words_frequency_in_categories[\"personal\"] = Counter(words_in_categories[\"personal\"])\n",
    "    elif category == \"businesses\":\n",
    "        words_frequency_in_categories[\"businesses\"] = Counter(words_in_categories[\"businesses\"])\n",
    "    elif category == \"leisure-hobbies\":\n",
    "        words_frequency_in_categories[\"leisure-hobbies\"] = Counter(words_in_categories[\"leisure-hobbies\"])\n",
    "    elif category == \"electronic-devices\":\n",
    "        words_frequency_in_categories[\"electronic-devices\"] = Counter(words_in_categories[\"electronic-devices\"])\n",
    "    elif category == \"for-the-home\":\n",
    "        words_frequency_in_categories[\"for-the-home\"] = Counter(words_in_categories[\"for-the-home\"])"
   ]
  },
  {
   "cell_type": "markdown",
   "metadata": {},
   "source": [
    "Here I call the preprocess function for every row in the train data."
   ]
  },
  {
   "cell_type": "code",
   "execution_count": 721,
   "metadata": {},
   "outputs": [],
   "source": [
    "pr = dict()\n",
    "for i, row in test_df.iterrows():\n",
    "    pr[row[\"data\"]] = pre_process(row[\"data\"])"
   ]
  },
  {
   "cell_type": "markdown",
   "metadata": {},
   "source": [
    "## Computing Probabilities"
   ]
  },
  {
   "cell_type": "markdown",
   "metadata": {},
   "source": [
    "### Bag of Words Model"
   ]
  },
  {
   "cell_type": "markdown",
   "metadata": {},
   "source": [
    "A **bag-of-words** is a representation of text that describes the occurrence of words within a document.\n",
    "It is called a “bag” of words, because any information about the **order** or structure of words in the document is discarded. The model is only concerned with whether known words occur in the document, not where in the document. So every word is **independent** from its **position** and we can ignore the sequence of each word.\n",
    "\n",
    "The **features** in this model are the **frequencies** of each word in each class. Hence, as the frequency of a word in class `c` gets higher the probability of choosing class `c` for the that word gets higher."
   ]
  },
  {
   "cell_type": "markdown",
   "metadata": {},
   "source": [
    "Consider the given image wich is ne `Naive Bayes` formula:"
   ]
  },
  {
   "attachments": {
    "Naive_Bayes.png": {
     "image/png": "[encoded data removed]"
    }
   },
   "cell_type": "markdown",
   "metadata": {},
   "source": [
    "![Naive_Bayes.png](attachment:Naive_Bayes.png)"
   ]
  },
  {
   "cell_type": "markdown",
   "metadata": {},
   "source": [
    "### Question 2) Describe all the parameters in the picture above:"
   ]
  },
  {
   "cell_type": "markdown",
   "metadata": {},
   "source": [
    "* **Class Prior Probability:** Is the probability before using the datas and evidence and analyzing them. So here because of the fact that all the classes have equal frequecies(1700 as we calculated before), the prior probability for all classes is $\\frac{1}{6}$. It can be calculated by dividing the number of appearences of that class in train dataframe by all the appearneces of all classes in train data frame. Here is: $\\frac{1700}{10200}=\\frac{1}{6}$\n",
    "* **Likelihood:**  Is the probability of predictor given class and shows probability of being a word in a class. For calculating $P(x|c)$ as I mentioned above we should divide the frequency of each word in class `c` by all the words in class `c`. Note that here x is showing a sentence and every $x_i$ is a word.\n",
    "* **Posterior Prabability:** It is the probability we are looing for: the probability of a class being choosed given a word. The posterior here is calculated by the given formula but we ignore the evidence.\n",
    "* **Evidence:** Evidence is the probability of the x used to update the prior. In our context, evidence is the probability of the occurness of the word x in the given text. Since this term is independent from words in classes the value of it is same in all cases through using bayes so we can ignore it in calculating the probabilities because we want to compare probabilities. Although, it can be calculated by dividing frequency of a word $c$ in all classes by number of all the words in all classes."
   ]
  },
  {
   "cell_type": "markdown",
   "metadata": {},
   "source": [
    "### Prior Prabability"
   ]
  },
  {
   "cell_type": "markdown",
   "metadata": {},
   "source": [
    "$P(c) = \\dfrac{class\\space frequency}{size\\space of\\space train\\space data}$"
   ]
  },
  {
   "cell_type": "markdown",
   "metadata": {},
   "source": [
    "Since the class frequency of all categories are the same and also, the size of train data is constatnt here, the prior probability for all class are $\\frac{1}{6}$."
   ]
  },
  {
   "cell_type": "code",
   "execution_count": 722,
   "metadata": {},
   "outputs": [],
   "source": [
    "p_c = (train_df['categories'] == 'personal').sum() / len(train_df)"
   ]
  },
  {
   "cell_type": "markdown",
   "metadata": {},
   "source": [
    "### Naive Bayes Without Smoothing"
   ]
  },
  {
   "cell_type": "markdown",
   "metadata": {},
   "source": [
    "In addition to the Naive bayes formula given above, consider this for $P(w|c)$:"
   ]
  },
  {
   "attachments": {
    "p.png": {
     "image/png": "[encoded data removed]"
    }
   },
   "cell_type": "markdown",
   "metadata": {},
   "source": [
    "![p.png](attachment:p.png)"
   ]
  },
  {
   "cell_type": "code",
   "execution_count": 723,
   "metadata": {},
   "outputs": [
    {
     "data": {
      "text/plain": [
       "False    1059\n",
       "True     741 \n",
       "Name: correct, dtype: int64"
      ]
     },
     "execution_count": 723,
     "metadata": {},
     "output_type": "execute_result"
    }
   ],
   "source": [
    "def classify_by_bayes(test_words):\n",
    "    best_probability = float(\"-inf\")\n",
    "    class_ = \"leisure-hobbies\"\n",
    "    for category in words_frequency_in_categories:\n",
    "        probability = p_c\n",
    "        for test in test_words:\n",
    "            if test in words_frequency_in_categories[category]:\n",
    "                probability *= words_frequency_in_categories[category][test] / len(words_in_categories[category])\n",
    "            else:\n",
    "                probability *= 0\n",
    "        if probability > best_probability:\n",
    "            best_probability = probability\n",
    "            class_ = category\n",
    "    return class_\n",
    "test_df[\"bayes_result\"] = test_df.apply(lambda row : classify_by_bayes(pr[row[\"data\"]]), axis = 1);\n",
    "test_df[\"correct\"] = test_df.apply(lambda row : row[\"categories\"] == row[\"bayes_result\"], axis = 1);\n",
    "test_df[\"correct\"].value_counts()"
   ]
  },
  {
   "cell_type": "markdown",
   "metadata": {},
   "source": [
    "Note that in computing bayes probabilities, sum of **logarithms** of probabilities could be used instead of multiplting probabilities. I tested that one to but since in our model the probabilities does not get so close to zero it did not make any difference."
   ]
  },
  {
   "cell_type": "markdown",
   "metadata": {},
   "source": [
    "## Bigrams"
   ]
  },
  {
   "cell_type": "markdown",
   "metadata": {},
   "source": [
    "**Question 3)** Clearly the postions of the words are important and the words are not independent from eachother. one of the ways to solve this problem is to use bigrams. In this projects I used unigrams, meaning I considered each word alone without considering its neighboure words. Basicalliy, N-grams are continuous sequences of words or symbols or tokens in a document. Maybe a word can be interpreted differently but since we are considering just one word we can not decide the class of the word correctly. Consider this Exmaple:\n",
    "* This could cause **feet** amputation.\n",
    "* The desks are how many **feet** long? \n",
    "\n",
    "Using bigrams can help us to classify better because we consider the releavant words in the text. In our example the words **amputation** and **long** could lead us to know the exact meaning of the word so using bigrams is enough and we do not need to take longer n-grams. Of couse by using **Trigram** we can determine the meaning better but our model gets more complex and it would be time consuming. Also it is not always helpful to consider a lot of words in each stage of classifying because it does not always give us so much more information if we consider a lot of words to determine the meaning of a word which could have just two meaning. Finally, it is a trade off between accuracy and complexity and also we should decide according to our context."
   ]
  },
  {
   "cell_type": "markdown",
   "metadata": {},
   "source": [
    "## Additive Smoothing"
   ]
  },
  {
   "cell_type": "markdown",
   "metadata": {},
   "source": [
    "### **Question 4)** The problem of zero prabability in normal naive bayes method (without smoothing)"
   ]
  },
  {
   "cell_type": "markdown",
   "metadata": {},
   "source": [
    "Additive smoothing solves the problem of **zero probability**. The approach of the **Naive Bayes** method we used above is that if a word does not exist in a class, the model consider the probability of $P(w|c) = 0$. Hence, based on the formula shown above the probability of $P(c|X) = 0$. When one term is zero the result gets zero because the result is the multiplication of all terms. Therefore, the probability of naive bayes is zero for class `c`. This result is extracted from this formula: "
   ]
  },
  {
   "attachments": {
    "Naive_Bayes_1.png": {
     "image/png": "[encoded data removed]"
    }
   },
   "cell_type": "markdown",
   "metadata": {},
   "source": [
    "![Naive_Bayes_1.png](attachment:Naive_Bayes_1.png)"
   ]
  },
  {
   "cell_type": "markdown",
   "metadata": {},
   "source": [
    "The term $P(c|X) = 0$ is definite that if this word occurs in the text we are sure that it is not belonged to the class `c`, but it is not necessarily correct. The slution to this problem is using **additive smoothing**."
   ]
  },
  {
   "cell_type": "markdown",
   "metadata": {},
   "source": [
    "### **Question 5)** Explain how does Additive smoothing work and implementation it."
   ]
  },
  {
   "cell_type": "markdown",
   "metadata": {},
   "source": [
    "Additive smoothing is commonly a component of naive Bayes classifiers. \n",
    "In a **bag of words model** of natural language processing, the data consists of the number of occurrences of each word in a document. Additive smoothing allows the assignment of non-zero probabilities to words which do **not occur** in the sample.\n",
    "Consider the following formula:"
   ]
  },
  {
   "attachments": {
    "smoothing.png": {
     "image/png": "[encoded data removed]"
    }
   },
   "cell_type": "markdown",
   "metadata": {},
   "source": [
    "![smoothing.png](attachment:smoothing.png)"
   ]
  },
  {
   "cell_type": "markdown",
   "metadata": {},
   "source": [
    "* **$count(w,c)$:** occurance frequency of word `w` in class `c`.\n",
    "* **$count(c)$:** frequency of class `c` in train set.\n",
    "* **$|v|$:** number of all vocabularies(unique words) in training data."
   ]
  },
  {
   "cell_type": "markdown",
   "metadata": {},
   "source": [
    "In this formula the number of $count(w,c)$ got increased by 1 (actually an unknown word is considered here to map the word with probability zero to this unknown word). The Denominator also increased by 1 and also we show add the number of all words in train data to it since 1- we are increasing the numerator by 1 for all the words in data set and also note that 2- the sum of this fraction should be 1. Therefore, there will be no zero probability and all probablities get a minimum probability and the problem is solved."
   ]
  },
  {
   "cell_type": "markdown",
   "metadata": {},
   "source": [
    "#### Implementation of Addiditive Smoothing"
   ]
  },
  {
   "cell_type": "code",
   "execution_count": 724,
   "metadata": {},
   "outputs": [],
   "source": [
    "pr = dict()\n",
    "for i, row in test_df.iterrows():\n",
    "    pr[row[\"data\"]] = pre_process(row[\"data\"])"
   ]
  },
  {
   "cell_type": "code",
   "execution_count": 725,
   "metadata": {},
   "outputs": [],
   "source": [
    "all_words = []\n",
    "for category in words_in_categories:\n",
    "    all_words.extend(words_in_categories[category])\n",
    "    \n",
    "count_all_unique_vocabularies = len(list(set(all_words)))"
   ]
  },
  {
   "cell_type": "code",
   "execution_count": 726,
   "metadata": {},
   "outputs": [
    {
     "data": {
      "text/plain": [
       "True     1594\n",
       "False    206 \n",
       "Name: correct_smoothing, dtype: int64"
      ]
     },
     "execution_count": 726,
     "metadata": {},
     "output_type": "execute_result"
    }
   ],
   "source": [
    "def classify_by_bayes_smoothing(test_words):\n",
    "    best_probability = float(\"-inf\")\n",
    "    class_ = None\n",
    "    count_w_c = 0\n",
    "    for category in words_frequency_in_categories:\n",
    "        probability = p_c\n",
    "        count_c = len(words_in_categories[category])\n",
    "        for test in test_words:\n",
    "            if test in words_frequency_in_categories[category]:\n",
    "                count_w_c = words_frequency_in_categories[category][test]\n",
    "            else:\n",
    "                count_w_c = 0\n",
    "            probability *= (count_w_c + 1) / (count_c + count_all_unique_vocabularies + 1)\n",
    "        if(probability > best_probability):\n",
    "            best_probability = probability\n",
    "            class_ = category\n",
    "    return class_\n",
    "test_df[\"bayes_result_smoothing\"]  = test_df.apply(lambda row : classify_by_bayes_smoothing(pr[row[\"data\"]]), axis = 1);\n",
    "test_df[\"correct_smoothing\"] = test_df.apply(lambda row : row[\"categories\"] == row[\"bayes_result_smoothing\"], axis = 1);\n",
    "test_df[\"correct_smoothing\"].value_counts()\n",
    "# test_df_bayes_result_smoothing"
   ]
  },
  {
   "cell_type": "markdown",
   "metadata": {},
   "source": [
    "## Assessing Correctness"
   ]
  },
  {
   "cell_type": "code",
   "execution_count": 727,
   "metadata": {},
   "outputs": [
    {
     "name": "stdout",
     "output_type": "stream",
     "text": [
      "category: leisure-hobbies, 5 highest: ['دوچرخه', 'قناری', 'جفت', 'فروش', 'نر']\n",
      "category: vehicles, 5 highest: ['مدل', 'پراید', 'رنگ', 'سالم', 'بیمه']\n",
      "category: for-the-home, 5 highest: ['مبل', 'میز', 'نو', 'سالم', 'نفره']\n",
      "category: personal, 5 highest: ['سایز', 'نو', 'لباس', 'کفش', 'مجلس']\n",
      "category: electronic-devices, 5 highest: ['گوش', 'سالم', 'سامسونگ', 'نو', 'تلویزیون']\n",
      "category: businesses, 5 highest: ['فروش', 'دستگاه', 'نو', 'میز', 'عدد']\n"
     ]
    },
    {
     "data": {
      "image/png": "[encoded data removed]",
      "text/plain": [
       "<Figure size 936x648 with 6 Axes>"
      ]
     },
     "metadata": {
      "needs_background": "light"
     },
     "output_type": "display_data"
    }
   ],
   "source": [
    "i = 1\n",
    "fig = plt.figure()\n",
    "fig.set_figheight(9)\n",
    "fig.set_figwidth(13)\n",
    "for category in words_frequency_in_categories:\n",
    "    sorted_x = sorted(words_frequency_in_categories[category].items(), key=lambda kv: kv[1], reverse=True)\n",
    "    sorted_dict = collections.OrderedDict(sorted_x)\n",
    "    print(f\"category: {category}, 5 highest: {list(sorted_dict.keys())[:5]}\")\n",
    "    ax=fig.add_subplot(2,3,i)\n",
    "    ax.set_title(category)\n",
    "    plt.tight_layout()\n",
    "    plt.bar((list(sorted_dict.keys())[:5]),list(sorted_dict.values())[:5], color ='maroon');\n",
    "    i+=1"
   ]
  },
  {
   "cell_type": "markdown",
   "metadata": {},
   "source": [
    "In this plots we can see which words have highest frequency in each category among other words.\n",
    "As we can see here some highest frequency words are in more than one category. like: \"نو\" و \"سالم\". It is more efective to omit them form the set of vocabularies because they do not help us to determine the category."
   ]
  },
  {
   "cell_type": "markdown",
   "metadata": {},
   "source": [
    "## Evaluating"
   ]
  },
  {
   "cell_type": "markdown",
   "metadata": {},
   "source": [
    "$Accuracy  = \\frac{Correct\\space Detected}{Total}$"
   ]
  },
  {
   "cell_type": "markdown",
   "metadata": {},
   "source": [
    "$Precision = \\frac{Correct Detected Class}{All Detected Class}$"
   ]
  },
  {
   "cell_type": "markdown",
   "metadata": {},
   "source": [
    "$Recall = \\frac{Correct\\space Detected\\space Class}{Total\\space Class}$"
   ]
  },
  {
   "cell_type": "markdown",
   "metadata": {},
   "source": [
    "$F1 = 2 * (\\frac{Precision * Recall}{Presicion+Recall})$"
   ]
  },
  {
   "cell_type": "markdown",
   "metadata": {},
   "source": [
    "### Question 7) Precision and Recall"
   ]
  },
  {
   "cell_type": "markdown",
   "metadata": {},
   "source": [
    "**Precision**: *Out of all the examples the classifier labeled as positive, what fraction were correct?*\n",
    "\n",
    "As we can see from the formula, precision is the number of true positives divided by the number of true positives plus the number of false positives. Precision quantifies the number of correct class predictions that actually belong to the class. Precision tells us how much we can trust the model when it predicts an individual as Positive.\n",
    "\n",
    "* Example of bad model with good precision score: In this project we have 300 of each class in the test data. Imagine a model lables 299 of `vehicles` class wrong and label just one of them correct(vehicles), in this case the precision of vehicles class is 1 but the model is vey bad.\n",
    "\n",
    "**Recall:** *Out of all the positive examples there were, what fraction did the classifier pick up?*\n",
    "\n",
    "Recall quantifies the number of positive class predictions made out of all positive examples in the dataset.\n",
    "The Recall measures the model’s predictive accuracy for the positive class: intuitively, it measures the ability of the model to find all the positive units in the dataset. we do not consider false detections.\n",
    "\n",
    "* Example of bad model with good recall score: In this project we have 300 of each class in the test data. Imagine a situation where a model that labels all the posts as `personal`, in this situation the recall value is 1 but we labeled 1200 of posts wrong!"
   ]
  },
  {
   "cell_type": "markdown",
   "metadata": {},
   "source": [
    "### Question 8) F1"
   ]
  },
  {
   "cell_type": "markdown",
   "metadata": {},
   "source": [
    "F1 Score is needed when you want to seek a balance between Precision and Recall. This is the **harmonic mean** of the two fractions. F1-measure weights **precision** and **recall** equally. This measure is approximately the average of the two when they are close but its not exactly the mean because it punishes extreme values. F1-score reaches its best value at 1 and worst score at 0. A classifier with a precision of 1.0 and a recall of 0.0 has a simple average of 0.5 but an F1 score of 0. F1 consider both correct labels and false labeles so it is a better way to evaluate out madel than precision and recall."
   ]
  },
  {
   "cell_type": "markdown",
   "metadata": {},
   "source": [
    "### Question 9) Multi-class metric"
   ]
  },
  {
   "cell_type": "markdown",
   "metadata": {},
   "source": [
    "Classification tasks in machine learning involving more than two classes are known by the name of \"multi-class classification\". Performance indicators are very useful when the aim is to evaluate and compare different classification models. 7 most commonly used MC metrics: precision, recall, F1 score, ROC AUC score, Cohen Kappa score, Matthew’s correlation coefficient, and log loss. Here the precision, recall and F1 score are discussed."
   ]
  },
  {
   "cell_type": "markdown",
   "metadata": {},
   "source": [
    "* **Micro:** The idea of Micro-averaging is to consider all the units together, without taking into consideration possible differences between classes. So actually it is equal to the accuracy. In micro average all **samples** equally contribute to the final averaged metric. $micro-F1 = micro-precision = micro-recall = accuracy$\n",
    "* **Macro:** Macro approach considers all the classes as basic elements of the calculation: each class has the same weight in the average, so that there is no distinction between highly and poorly populated classes. In Macro average all **classes** equally contribute to the final averaged metric.\n",
    "* **Weighted:** Weighted keeps track of the importance of each class thanks to the frequency. In this case, large and small classes have a proportional effect on the result in relation to their size and the metric can be applied during the training phase of the algorithm on a wide number of classes. In weighted average each classes’s contribution to the average is **weighted by its size**.\n",
    "\n",
    "In this project basedon the test data, the number of samples of each category in the test data set is 300 (it is equal for all classes) so the **Weighted** average will be the same as **Macro** average."
   ]
  },
  {
   "cell_type": "code",
   "execution_count": 728,
   "metadata": {},
   "outputs": [],
   "source": [
    "non_smooth_precision_in_category = dict()\n",
    "non_smooth_recall_in_category = dict()\n",
    "non_smooth_f1_in_category = dict()\n",
    "def show_result(category):\n",
    "    correct_detected = ((test_df[\"bayes_result\"] == category) & (test_df[\"categories\"] == test_df[\"bayes_result\"])).sum()\n",
    "    all_detected = (test_df[\"bayes_result\"] == category).sum()\n",
    "    total = (test_df[\"categories\"] == category).sum()\n",
    "    non_smooth_precision_in_category[category] = precision = correct_detected / all_detected * 100\n",
    "    non_smooth_recall_in_category[category] = recall = correct_detected / total * 100\n",
    "    non_smooth_f1_in_category[category] = f1 = 2 * (precision * recall) / (precision + recall)\n",
    "    print('======')\n",
    "    print(f\"->{category}:\")\n",
    "    print(f\"Precision: {precision :.5f}%\")\n",
    "    print(f\"Recall: {recall :.5f}%\")\n",
    "    print(f\"F1: {f1 :.5f}%\")"
   ]
  },
  {
   "cell_type": "code",
   "execution_count": 729,
   "metadata": {},
   "outputs": [
    {
     "name": "stdout",
     "output_type": "stream",
     "text": [
      "NO SMOOTHING\n",
      "\n",
      "======\n",
      "->leisure-hobbies:\n",
      "Precision: 22.71663%\n",
      "Recall: 97.00000%\n",
      "F1: 36.81214%\n",
      "======\n",
      "->vehicles:\n",
      "Precision: 94.38202%\n",
      "Recall: 28.00000%\n",
      "F1: 43.18766%\n",
      "======\n",
      "->for-the-home:\n",
      "Precision: 90.07634%\n",
      "Recall: 39.33333%\n",
      "F1: 54.75638%\n",
      "======\n",
      "->personal:\n",
      "Precision: 91.30435%\n",
      "Recall: 35.00000%\n",
      "F1: 50.60241%\n",
      "======\n",
      "->electronic-devices:\n",
      "Precision: 87.69231%\n",
      "Recall: 19.00000%\n",
      "F1: 31.23288%\n",
      "======\n",
      "->businesses:\n",
      "Precision: 72.26891%\n",
      "Recall: 28.66667%\n",
      "F1: 41.05012%\n"
     ]
    }
   ],
   "source": [
    "print(\"NO SMOOTHING\\n\")\n",
    "for category in words_in_categories:\n",
    "    show_result(category)"
   ]
  },
  {
   "cell_type": "code",
   "execution_count": 730,
   "metadata": {},
   "outputs": [
    {
     "data": {
      "image/png": "[encoded data removed]",
      "text/plain": [
       "<Figure size 720x360 with 1 Axes>"
      ]
     },
     "metadata": {
      "needs_background": "light"
     },
     "output_type": "display_data"
    }
   ],
   "source": [
    "fig = plt.figure()\n",
    "fig.set_figheight(5)\n",
    "fig.set_figwidth(10)\n",
    "plt.bar((list(non_smooth_precision_in_category.keys())),list(non_smooth_precision_in_category.values()), color ='maroon');\n",
    "plt.title(\"Precision score without smoothing\");"
   ]
  },
  {
   "cell_type": "code",
   "execution_count": 731,
   "metadata": {},
   "outputs": [
    {
     "data": {
      "image/png": "[encoded data removed]",
      "text/plain": [
       "<Figure size 720x360 with 1 Axes>"
      ]
     },
     "metadata": {
      "needs_background": "light"
     },
     "output_type": "display_data"
    }
   ],
   "source": [
    "fig = plt.figure()\n",
    "fig.set_figheight(5)\n",
    "fig.set_figwidth(10)\n",
    "plt.bar((list(non_smooth_recall_in_category.keys())),list(non_smooth_recall_in_category.values()), color ='maroon');\n",
    "plt.title(\"Recall score without smoothing\");"
   ]
  },
  {
   "cell_type": "code",
   "execution_count": 732,
   "metadata": {},
   "outputs": [
    {
     "data": {
      "image/png": "[encoded data removed]",
      "text/plain": [
       "<Figure size 720x360 with 1 Axes>"
      ]
     },
     "metadata": {
      "needs_background": "light"
     },
     "output_type": "display_data"
    }
   ],
   "source": [
    "fig = plt.figure()\n",
    "fig.set_figheight(5)\n",
    "fig.set_figwidth(10)\n",
    "plt.bar((list(non_smooth_f1_in_category.keys())),list(non_smooth_f1_in_category.values()), color ='maroon');\n",
    "plt.title(\"F1 score without smoothing\");"
   ]
  },
  {
   "cell_type": "markdown",
   "metadata": {},
   "source": [
    "In plots above we can see the trade off between **precision** and **recall** and also that the **F1** score is the harmonic mean of precision and recall."
   ]
  },
  {
   "cell_type": "markdown",
   "metadata": {},
   "source": [
    "### Micro"
   ]
  },
  {
   "cell_type": "code",
   "execution_count": 733,
   "metadata": {},
   "outputs": [
    {
     "name": "stdout",
     "output_type": "stream",
     "text": [
      "Accuracy: 41.16667%\n"
     ]
    }
   ],
   "source": [
    "accuracy_non_smoothing = (test_df[\"correct\"].sum() / len(test_df))*100\n",
    "print(f\"Accuracy: {accuracy_non_smoothing:.5f}%\")"
   ]
  },
  {
   "cell_type": "markdown",
   "metadata": {},
   "source": [
    "### Macro"
   ]
  },
  {
   "cell_type": "code",
   "execution_count": 734,
   "metadata": {},
   "outputs": [
    {
     "name": "stdout",
     "output_type": "stream",
     "text": [
      "Macro Average\n",
      "Precision: 76.40676%\n",
      "Recall: 41.16667%\n",
      "F1: 42.94027%\n"
     ]
    }
   ],
   "source": [
    "no_smoothing_macro_precision = sum(non_smooth_precision_in_category.values()) / len(words_in_categories.keys())\n",
    "no_smoothing_macro_recall = sum(non_smooth_recall_in_category.values()) / len(words_in_categories.keys())\n",
    "no_smoothing_macro_F1 = sum(non_smooth_f1_in_category.values()) / len(words_in_categories.keys())\n",
    "print(\"Macro Average\")\n",
    "print(f\"Precision: {no_smoothing_macro_precision:.5f}%\")\n",
    "print(f\"Recall: {no_smoothing_macro_recall:.5f}%\")\n",
    "print(f\"F1: {no_smoothing_macro_F1:.5f}%\")"
   ]
  },
  {
   "cell_type": "markdown",
   "metadata": {},
   "source": [
    "### Weighted"
   ]
  },
  {
   "cell_type": "code",
   "execution_count": 735,
   "metadata": {},
   "outputs": [
    {
     "name": "stdout",
     "output_type": "stream",
     "text": [
      "Weighted Average\n",
      "Precision: 76.40676%\n",
      "Recall: 41.16667%\n",
      "F1: 42.94027%\n"
     ]
    }
   ],
   "source": [
    "no_smoothing_weighted_precision = 0\n",
    "no_smoothing_weighted_recall = 0\n",
    "no_smoothing_weighted_f1 = 0\n",
    "for category in words_in_categories:\n",
    "    number_in_test = test_df['categories'].value_counts()[category]\n",
    "    no_smoothing_weighted_precision += (number_in_test * non_smooth_precision_in_category[category])\n",
    "    no_smoothing_weighted_recall += (number_in_test * non_smooth_recall_in_category[category])\n",
    "    no_smoothing_weighted_f1 += (number_in_test * non_smooth_f1_in_category[category])\n",
    "    \n",
    "no_smoothing_weighted_precision = no_smoothing_weighted_precision / len(test_df)\n",
    "no_smoothing_weighted_recall = no_smoothing_weighted_recall/len(test_df)\n",
    "no_smoothing_weighted_f1 = no_smoothing_weighted_f1/len(test_df)\n",
    "print(\"Weighted Average\")\n",
    "print(f\"Precision: {no_smoothing_weighted_precision:.5f}%\")\n",
    "print(f\"Recall: {no_smoothing_weighted_recall:.5f}%\")\n",
    "print(f\"F1: {no_smoothing_weighted_f1:.5f}%\")"
   ]
  },
  {
   "cell_type": "markdown",
   "metadata": {},
   "source": [
    "### With Smoothing"
   ]
  },
  {
   "cell_type": "code",
   "execution_count": 736,
   "metadata": {},
   "outputs": [],
   "source": [
    "smooth_precision_in_category = dict()\n",
    "smooth_recall_in_category = dict()\n",
    "smooth_f1_in_category = dict()\n",
    "def show_result(category, show = True):\n",
    "    correct_detected = ((test_df['categories'] == test_df[\"bayes_result_smoothing\"]) & (test_df[\"bayes_result_smoothing\"] == category)).sum()\n",
    "    all_detected = (test_df[\"bayes_result_smoothing\"] == category).sum()\n",
    "    total = (test_df['categories'] == category).sum()\n",
    "\n",
    "    smooth_precision_in_category[category] = precision = correct_detected / all_detected * 100\n",
    "    smooth_recall_in_category[category] = recall = correct_detected / total * 100\n",
    "    smooth_f1_in_category[category] = f1 = 2 * (precision * recall) / (precision + recall)\n",
    "    if show:\n",
    "        print('======')\n",
    "        print(f\"->{category}:\")\n",
    "        print(f\"Precision: {precision :.5f}%\")\n",
    "        print(f\"Recall: {recall :.5f}%\")\n",
    "        print(f\"F1: {f1 :.5f}%\")\n",
    "    return precision, recall, f1"
   ]
  },
  {
   "cell_type": "code",
   "execution_count": 737,
   "metadata": {},
   "outputs": [
    {
     "name": "stdout",
     "output_type": "stream",
     "text": [
      "WITH SMOOTHING\n",
      "\n",
      "======\n",
      "->leisure-hobbies:\n",
      "Precision: 91.54930%\n",
      "Recall: 86.66667%\n",
      "F1: 89.04110%\n",
      "======\n",
      "->vehicles:\n",
      "Precision: 94.27609%\n",
      "Recall: 93.33333%\n",
      "F1: 93.80235%\n",
      "======\n",
      "->for-the-home:\n",
      "Precision: 85.76052%\n",
      "Recall: 88.33333%\n",
      "F1: 87.02791%\n",
      "======\n",
      "->personal:\n",
      "Precision: 89.66667%\n",
      "Recall: 89.66667%\n",
      "F1: 89.66667%\n",
      "======\n",
      "->electronic-devices:\n",
      "Precision: 90.61489%\n",
      "Recall: 93.33333%\n",
      "F1: 91.95402%\n",
      "======\n",
      "->businesses:\n",
      "Precision: 79.73422%\n",
      "Recall: 80.00000%\n",
      "F1: 79.86689%\n"
     ]
    }
   ],
   "source": [
    "print(\"WITH SMOOTHING\\n\")\n",
    "for category in words_in_categories:\n",
    "    show_result(category)"
   ]
  },
  {
   "cell_type": "code",
   "execution_count": 738,
   "metadata": {},
   "outputs": [
    {
     "data": {
      "image/png": "[encoded data removed]",
      "text/plain": [
       "<Figure size 720x360 with 1 Axes>"
      ]
     },
     "metadata": {
      "needs_background": "light"
     },
     "output_type": "display_data"
    }
   ],
   "source": [
    "fig = plt.figure()\n",
    "fig.set_figheight(5)\n",
    "fig.set_figwidth(10)\n",
    "plt.bar((list(smooth_precision_in_category.keys())),list(smooth_precision_in_category.values()), color ='maroon');\n",
    "plt.title(\"Precision score with smoothing\");"
   ]
  },
  {
   "cell_type": "code",
   "execution_count": 739,
   "metadata": {},
   "outputs": [
    {
     "data": {
      "image/png": "[encoded data removed]",
      "text/plain": [
       "<Figure size 720x360 with 1 Axes>"
      ]
     },
     "metadata": {
      "needs_background": "light"
     },
     "output_type": "display_data"
    }
   ],
   "source": [
    "fig = plt.figure()\n",
    "fig.set_figheight(5)\n",
    "fig.set_figwidth(10)\n",
    "plt.bar((list(smooth_recall_in_category.keys())),list(smooth_recall_in_category.values()), color ='maroon');\n",
    "plt.title(\"Recall score with smoothing\");"
   ]
  },
  {
   "cell_type": "code",
   "execution_count": 740,
   "metadata": {},
   "outputs": [
    {
     "data": {
      "image/png": "[encoded data removed]",
      "text/plain": [
       "<Figure size 720x360 with 1 Axes>"
      ]
     },
     "metadata": {
      "needs_background": "light"
     },
     "output_type": "display_data"
    }
   ],
   "source": [
    "fig = plt.figure()\n",
    "fig.set_figheight(5)\n",
    "fig.set_figwidth(10)\n",
    "plt.bar((list(smooth_f1_in_category.keys())),list(smooth_f1_in_category.values()), color ='maroon');\n",
    "plt.title(\"F1 core with smoothing\");"
   ]
  },
  {
   "cell_type": "markdown",
   "metadata": {},
   "source": [
    "As we can see by additive smoothing the precesion and recall scores are balanced and they got higher also the F1 score is significantly better than the results without smoothing."
   ]
  },
  {
   "cell_type": "markdown",
   "metadata": {},
   "source": [
    "### Micro"
   ]
  },
  {
   "cell_type": "code",
   "execution_count": 745,
   "metadata": {},
   "outputs": [
    {
     "name": "stdout",
     "output_type": "stream",
     "text": [
      "Accuracy With Smoothing: 88.56%\n"
     ]
    }
   ],
   "source": [
    "accuracy_smoothing = (test_df[\"correct_smoothing\"].sum() / len(test_df))*100\n",
    "print(f\"Accuracy With Smoothing: {accuracy_smoothing:.2f}%\")"
   ]
  },
  {
   "cell_type": "markdown",
   "metadata": {},
   "source": [
    "### Macro"
   ]
  },
  {
   "cell_type": "code",
   "execution_count": 746,
   "metadata": {},
   "outputs": [
    {
     "name": "stdout",
     "output_type": "stream",
     "text": [
      "Macro Average With Smoothing:\n",
      "Precision: 88.60028%\n",
      "Recall: 88.55556%\n",
      "F1: 88.55982%\n"
     ]
    }
   ],
   "source": [
    "smoothing_macro_precision = sum(smooth_precision_in_category.values()) / len(words_in_categories.keys())\n",
    "smoothing_macro_recall = sum(smooth_recall_in_category.values()) / len(words_in_categories.keys())\n",
    "smoothing_macro_f1 = sum(smooth_f1_in_category.values()) / len(words_in_categories.keys())\n",
    "print(\"Macro Average With Smoothing:\")\n",
    "print(f\"Precision: {smoothing_macro_precision:.5f}%\")\n",
    "print(f\"Recall: {smoothing_macro_recall:.5f}%\")\n",
    "print(f\"F1: {smoothing_macro_f1:.5f}%\")"
   ]
  },
  {
   "cell_type": "markdown",
   "metadata": {},
   "source": [
    "### Weighted"
   ]
  },
  {
   "cell_type": "code",
   "execution_count": 747,
   "metadata": {},
   "outputs": [
    {
     "name": "stdout",
     "output_type": "stream",
     "text": [
      "Weighted Average With Smoothing:\n",
      "Precision: 88.60028%\n",
      "Recall: 88.55556%\n",
      "F1: 88.55982%\n"
     ]
    }
   ],
   "source": [
    "smoothing_weighted_precision = 0\n",
    "smoothing_weighted_recall = 0\n",
    "smoothing_weighted_f1 = 0\n",
    "for category in words_in_categories:\n",
    "    number_in_test = test_df['categories'].value_counts()[category]\n",
    "    smoothing_weighted_precision+=(number_in_test * smooth_precision_in_category[category])\n",
    "    smoothing_weighted_recall +=(number_in_test * smooth_recall_in_category[category])\n",
    "    smoothing_weighted_f1 +=(number_in_test * smooth_f1_in_category[category])\n",
    "smoothing_weighted_precision =smoothing_weighted_precision / len(test_df)\n",
    "smoothing_weighted_recall = smoothing_weighted_recall/ len(test_df)\n",
    "smoothing_weighted_f1 = smoothing_weighted_f1/ len(test_df)\n",
    "print(\"Weighted Average With Smoothing:\")\n",
    "print(f\"Precision: {smoothing_weighted_precision:.5f}%\")\n",
    "print(f\"Recall: {smoothing_weighted_recall:.5f}%\")\n",
    "print(f\"F1: {smoothing_weighted_f1:.5f}%\")"
   ]
  },
  {
   "cell_type": "markdown",
   "metadata": {},
   "source": [
    "### Part A) With Additive Smoothing"
   ]
  },
  {
   "cell_type": "markdown",
   "metadata": {},
   "source": [
    "|                |Businesses|Electronic Devices|For the home|Leisure Hobbies|Personal|Vehicles|All Classes||\n",
    "|----------------|------------|-------------   |-----------|----------------|----------|-------|--------------|  |     \n",
    "|   Precision    |   79.73%   |    90.61%      |   85.76%  |    91.55%      |    89.67% |94.28 |   -    ||\n",
    "|   Recall       |     80.00% |   93.33%       |   88.33%    |     86.67%   |  89.67%   |93.33%|    -     ||\n",
    "|   F1-score     |    79.87%  |    91.56%      |   87.03%    |     89.04%    |    89.67%|93.80%|     -     ||\n",
    "|   Accuracy     |  -        |    -         |     -         |     -         |           |  -   |      88.56%        ||\n",
    "|   Macro Avg    |  -        |    -         |     -         |    -         |            |-     |       88.55%    ||\n",
    "|   Micro Avg    |  -        |    -        |     -         |     -           |          |-     |       88.56%     ||\n",
    "|   Weighted Avg |  -        |    -     |         -         |     -          |          |-     |      88.55%  ||"
   ]
  },
  {
   "cell_type": "markdown",
   "metadata": {},
   "source": [
    "### Part B) Without Additive Smoothing"
   ]
  },
  {
   "cell_type": "markdown",
   "metadata": {},
   "source": [
    "|                |Businesses|Electronic Devices|For the home|Leisure Hobbies|Personal|Vehicles|All Classes||\n",
    "|----------------|------------|-------------   |-----------|----------------|----------|-------|--------------|  |     \n",
    "|   Precision    |   72.27%   |    87.69%      |   90.08%  |    22.70%      |    91.23% |94.38% |   -    ||\n",
    "|   Recall       |     28.67% |   19.00%       |   39.33%    |     97.00%   |  34.67%   |28.33%|    -     ||\n",
    "|   F1-score     |    41.05%  |    31.23%      |   54.76%    |     36.79%    |    50.24%|43.19%|     -     ||\n",
    "|   Accuracy     |  -        |    -         |     -         |     -         |           |  -   |      41.11%         ||\n",
    "|   Macro Avg    |  -        |    -         |     -         |    -         |            |-     |       42.88%    ||\n",
    "|   Micro Avg    |  -        |    -        |     -         |     -           |          |-     |       41.11%     ||\n",
    "|   Weighted Avg |  -        |    -     |         -         |     -          |          |-     |      42.88%  ||"
   ]
  },
  {
   "cell_type": "markdown",
   "metadata": {},
   "source": [
    "### Question 11) comapring the results"
   ]
  },
  {
   "cell_type": "markdown",
   "metadata": {},
   "source": [
    "As we can see above with the Additive smoothing, the results of all classes are drastically better although for some classes the result without additie smoothing is better. Of course when the result of all classes is better, the test dataset is labeled more accurate. We can see that F1 score is between precision and recall scores so as we expected beacuase it is somehow the mean of them. As we said before Always having high precision does not show that the model is good, we can see this in the second table where most of the presicions are high but the total result is not good. In the first table we can see that not only the results of precisio, recall and f1 are high but also close to eachother and the All classes results are very high."
   ]
  },
  {
   "cell_type": "markdown",
   "metadata": {},
   "source": [
    "### Question 12)"
   ]
  },
  {
   "cell_type": "markdown",
   "metadata": {},
   "source": [
    "Here are some of the post which my model did not label correct:"
   ]
  },
  {
   "cell_type": "code",
   "execution_count": 744,
   "metadata": {},
   "outputs": [
    {
     "data": {
      "text/html": [
       "<div>\n",
       "<style scoped>\n",
       "    .dataframe tbody tr th:only-of-type {\n",
       "        vertical-align: middle;\n",
       "    }\n",
       "\n",
       "    .dataframe tbody tr th {\n",
       "        vertical-align: top;\n",
       "    }\n",
       "\n",
       "    .dataframe thead th {\n",
       "        text-align: right;\n",
       "    }\n",
       "</style>\n",
       "<table border=\"1\" class=\"dataframe\">\n",
       "  <thead>\n",
       "    <tr style=\"text-align: right;\">\n",
       "      <th></th>\n",
       "      <th>data</th>\n",
       "      <th>categories</th>\n",
       "      <th>bayes_result_smoothing</th>\n",
       "    </tr>\n",
       "  </thead>\n",
       "  <tbody>\n",
       "    <tr>\n",
       "      <th>201</th>\n",
       "      <td>تعداد۳۹۰ عدد سکه. سکه بیست وپنج تومانی۲۵ سکه بیست وپنج تومانی۲۵ سکه بیست وپنج تومانی۲۵ سکه بیست وپنج تومانی۲۵</td>\n",
       "      <td>leisure-hobbies</td>\n",
       "      <td>businesses</td>\n",
       "    </tr>\n",
       "    <tr>\n",
       "      <th>202</th>\n",
       "      <td>باسلام روشنایی نو میباشد لطفافقط تماس باتشکر روشنایی گازی روشنایی گازی روشنایی گازی روشنایی گازی</td>\n",
       "      <td>for-the-home</td>\n",
       "      <td>businesses</td>\n",
       "    </tr>\n",
       "    <tr>\n",
       "      <th>203</th>\n",
       "      <td>فکس T... Come اصل ... در منزل استفاده شده . نو و سالم با گوشی و رول فکس فکس T...Come ، تی کام اصل آلمان فکس T...Come ، تی کام اصل آلمان فکس T...Come ، تی کام اصل آلمان فکس T...Come ، تی کام اصل آلمان</td>\n",
       "      <td>businesses</td>\n",
       "      <td>electronic-devices</td>\n",
       "    </tr>\n",
       "    <tr>\n",
       "      <th>204</th>\n",
       "      <td>دو قواره پارچه چادر 3/5متری مناسب برای عیدی دادن و....ب تلگرام پی ام بدهید. دو قواره پارچه چادری3/5متری دو قواره پارچه چادری3/5متری دو قواره پارچه چادری3/5متری دو قواره پارچه چادری3/5متری</td>\n",
       "      <td>personal</td>\n",
       "      <td>for-the-home</td>\n",
       "    </tr>\n",
       "    <tr>\n",
       "      <th>205</th>\n",
       "      <td>صد در صد برنج ،برای دیدن کارهای برنجی دیگر پیغام دهید جا لباسی جا لباسی جا لباسی جا لباسی</td>\n",
       "      <td>for-the-home</td>\n",
       "      <td>personal</td>\n",
       "    </tr>\n",
       "  </tbody>\n",
       "</table>\n",
       "</div>"
      ],
      "text/plain": [
       "                                                                                                                                                                                                         data  \\\n",
       "201  تعداد۳۹۰ عدد سکه. سکه بیست وپنج تومانی۲۵ سکه بیست وپنج تومانی۲۵ سکه بیست وپنج تومانی۲۵ سکه بیست وپنج تومانی۲۵                                                                                              \n",
       "202  باسلام روشنایی نو میباشد لطفافقط تماس باتشکر روشنایی گازی روشنایی گازی روشنایی گازی روشنایی گازی                                                                                                           \n",
       "203  فکس T... Come اصل ... در منزل استفاده شده . نو و سالم با گوشی و رول فکس فکس T...Come ، تی کام اصل آلمان فکس T...Come ، تی کام اصل آلمان فکس T...Come ، تی کام اصل آلمان فکس T...Come ، تی کام اصل آلمان    \n",
       "204  دو قواره پارچه چادر 3/5متری مناسب برای عیدی دادن و....ب تلگرام پی ام بدهید. دو قواره پارچه چادری3/5متری دو قواره پارچه چادری3/5متری دو قواره پارچه چادری3/5متری دو قواره پارچه چادری3/5متری                \n",
       "205  صد در صد برنج ،برای دیدن کارهای برنجی دیگر پیغام دهید جا لباسی جا لباسی جا لباسی جا لباسی                                                                                                                  \n",
       "\n",
       "          categories bayes_result_smoothing  \n",
       "201  leisure-hobbies  businesses             \n",
       "202  for-the-home     businesses             \n",
       "203  businesses       electronic-devices     \n",
       "204  personal         for-the-home           \n",
       "205  for-the-home     personal               "
      ]
     },
     "execution_count": 744,
     "metadata": {},
     "output_type": "execute_result"
    }
   ],
   "source": [
    "import pandas as pd\n",
    "false_label = test_df[test_df['correct_smoothing'] == False].reset_index()\n",
    "false_label_df = false_label[['data','categories', 'bayes_result_smoothing']].copy()\n",
    "pd.options.display.max_rows\n",
    "false_label_df.tail()"
   ]
  },
  {
   "cell_type": "markdown",
   "metadata": {},
   "source": [
    "In the model implemented in this project all the words are independent from their postion and other words in a post and also we just calculate the probabilities by the count of each word. So it could be normal that some categories which could have related words picked wrong by Naive Bayes for these posts. ّor example in the first sentence the word \"سکه\" could be in category \"businesses\" or \"leisure-hobbies\". Because some peaople use \"سکه\" for hobby and some peaple for businesses. This could be true for other examples above of wrong labels. So by just using the bag of words and unigram method in Naive Bayes classifier this mistakes can happen. Also the fact that descriptions are little and contains numbers and English words can effect. Also, maybe the stop words are not accurate and we missed some stop words or in some of these posts there are some words which are in several categories and have high frequency that could lead the Naive Classifier to choose wrong. Totally using unigram and bag of words method could mainly cause these wrong choices."
   ]
  },
  {
   "cell_type": "markdown",
   "metadata": {},
   "source": [
    "### Conclusion"
   ]
  },
  {
   "cell_type": "markdown",
   "metadata": {},
   "source": [
    "In this assignment I used Naive Bayes Classifier to classify the advertisement posts in the `Divar` website. I  .I got familiar with the model of `bag-of-words` and the concept of `unigram` and other types of it. I got deeper in the naive bayes formula and how it functions and also some problems it has, for instance the zero probability. I learned haw to solve this problems like using `Additive Smoothing`. I got familiar with some popular ways to evaluate my model and assess how it works. Now I can use Naive Bayes Classifier for classifying data when I want to get a fast and also not bad results!"
   ]
  }
 ],
 "metadata": {
  "kernelspec": {
   "display_name": "Python 3",
   "language": "python",
   "name": "python3"
  },
  "language_info": {
   "codemirror_mode": {
    "name": "ipython",
    "version": 3
   },
   "file_extension": ".py",
   "mimetype": "text/x-python",
   "name": "python",
   "nbconvert_exporter": "python",
   "pygments_lexer": "ipython3",
   "version": "3.8.3"
  }
 },
 "nbformat": 4,
 "nbformat_minor": 4
}
